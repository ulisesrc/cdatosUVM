{
 "cells": [
  {
   "cell_type": "markdown",
   "metadata": {},
   "source": [
    "# Librerias"
   ]
  },
  {
   "cell_type": "code",
   "execution_count": 19,
   "metadata": {},
   "outputs": [],
   "source": [
    "import numpy as np\n",
    "import pandas as pd"
   ]
  },
  {
   "cell_type": "markdown",
   "metadata": {},
   "source": [
    "## Variable"
   ]
  },
  {
   "cell_type": "code",
   "execution_count": 20,
   "metadata": {},
   "outputs": [],
   "source": [
    "def estandarizar_variables(var1, var2):\n",
    "    \"\"\"\n",
    "    Estandariza las variables var1 y var2 restando la media y dividiendo por la desviación estándar.\n",
    "    \n",
    "    Args:\n",
    "    var1: array o lista de valores de la variable 1.\n",
    "    var2: array o lista de valores de la variable 2.\n",
    "    \n",
    "    Returns:\n",
    "    var1_estandarizada: array de var1 estandarizada.\n",
    "    var2_estandarizada: array de var2 estandarizada.\n",
    "    \"\"\"\n",
    "    var1_mean = np.mean(var1)\n",
    "    var1_std = np.std(var1)\n",
    "    var2_mean = np.mean(var2)\n",
    "    var2_std = np.std(var2)\n",
    "    \n",
    "    var1_estandarizada = (var1 - var1_mean) / var1_std\n",
    "    var2_estandarizada = (var2 - var2_mean) / var2_std\n",
    "    \n",
    "    return var1_estandarizada, var2_estandarizada"
   ]
  },
  {
   "cell_type": "markdown",
   "metadata": {},
   "source": [
    "#DatosEjemplo01"
   ]
  },
  {
   "cell_type": "code",
   "execution_count": 21,
   "metadata": {},
   "outputs": [
    {
     "name": "stdout",
     "output_type": "stream",
     "text": [
      "Variable 1 estandarizada: [-1.41421356 -0.70710678  0.          0.70710678  1.41421356]\n",
      "Variable 2 estandarizada: [-1.41421356 -0.70710678  0.          0.70710678  1.41421356]\n"
     ]
    }
   ],
   "source": [
    "\n",
    "# Datos de ejemplo\n",
    "var1 = np.array([1, 2, 3, 4, 5])\n",
    "var2 = np.array([10, 20, 30, 40, 50])\n",
    "\n",
    "var1_estandarizada, var2_estandarizada = estandarizar_variables(var1, var2)\n",
    "print(\"Variable 1 estandarizada:\", var1_estandarizada)\n",
    "print(\"Variable 2 estandarizada:\", var2_estandarizada)"
   ]
  },
  {
   "cell_type": "markdown",
   "metadata": {},
   "source": [
    "#DatosEjemplo02"
   ]
  },
  {
   "cell_type": "code",
   "execution_count": 22,
   "metadata": {},
   "outputs": [
    {
     "name": "stdout",
     "output_type": "stream",
     "text": [
      "   var1  var2  var1_estandarizada  var2_estandarizada\n",
      "0     1    10           -1.414214           -1.414214\n",
      "1     2    20           -0.707107           -0.707107\n",
      "2     3    30            0.000000            0.000000\n",
      "3     4    40            0.707107            0.707107\n",
      "4     5    50            1.414214            1.414214\n"
     ]
    }
   ],
   "source": [
    "# Datos de ejemplo\n",
    "data = {'var1': [1, 2, 3, 4, 5], 'var2': [10, 20, 30, 40, 50]}\n",
    "df = pd.DataFrame(data)\n",
    "\n",
    "# Aplicar estandarización a las columnas var1 y var2\n",
    "df['var1_estandarizada'], df['var2_estandarizada'] = estandarizar_variables(df['var1'], df['var2'])\n",
    "\n",
    "print(df)"
   ]
  }
 ],
 "metadata": {
  "kernelspec": {
   "display_name": "base",
   "language": "python",
   "name": "python3"
  },
  "language_info": {
   "codemirror_mode": {
    "name": "ipython",
    "version": 3
   },
   "file_extension": ".py",
   "mimetype": "text/x-python",
   "name": "python",
   "nbconvert_exporter": "python",
   "pygments_lexer": "ipython3",
   "version": "3.11.7"
  }
 },
 "nbformat": 4,
 "nbformat_minor": 2
}
